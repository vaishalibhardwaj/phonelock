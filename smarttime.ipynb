{
  "nbformat": 4,
  "nbformat_minor": 0,
  "metadata": {
    "colab": {
      "provenance": [],
      "authorship_tag": "ABX9TyOlP5hBQ/gnW3xrEZOHrbgG",
      "include_colab_link": true
    },
    "kernelspec": {
      "name": "python3",
      "display_name": "Python 3"
    },
    "language_info": {
      "name": "python"
    }
  },
  "cells": [
    {
      "cell_type": "markdown",
      "metadata": {
        "id": "view-in-github",
        "colab_type": "text"
      },
      "source": [
        "<a href=\"https://colab.research.google.com/github/vaishalibhardwaj/phonelock/blob/main/smarttime.ipynb\" target=\"_parent\"><img src=\"https://colab.research.google.com/assets/colab-badge.svg\" alt=\"Open In Colab\"/></a>"
      ]
    },
    {
      "cell_type": "code",
      "execution_count": 5,
      "metadata": {
        "colab": {
          "base_uri": "https://localhost:8080/",
          "height": 593
        },
        "id": "heaMHq86pChl",
        "outputId": "1f39aa8b-5561-4386-d3e4-7af8ade3350b"
      },
      "outputs": [
        {
          "output_type": "stream",
          "name": "stdout",
          "text": [
            "Current Time (IST): 19:57:32.984417\n",
            "Generated Password: 6383\n",
            "\n",
            "Current Time (IST): 19:58:33.044778\n",
            "Generated Password: 7392\n",
            "\n",
            "Current Time (IST): 19:59:33.100968\n",
            "Generated Password: 8401\n",
            "\n",
            "Current Time (IST): 20:00:33.109409\n",
            "Generated Password: 0200\n",
            "\n",
            "Current Time (IST): 20:01:33.132502\n",
            "Generated Password: 1190\n",
            "\n",
            "Current Time (IST): 20:02:33.192476\n",
            "Generated Password: 2180\n",
            "\n",
            "Current Time (IST): 20:03:33.253882\n",
            "Generated Password: 3170\n",
            "\n",
            "Current Time (IST): 20:04:33.314485\n",
            "Generated Password: 4160\n",
            "\n"
          ]
        },
        {
          "output_type": "error",
          "ename": "KeyboardInterrupt",
          "evalue": "",
          "traceback": [
            "\u001b[0;31m---------------------------------------------------------------------------\u001b[0m",
            "\u001b[0;31mKeyboardInterrupt\u001b[0m                         Traceback (most recent call last)",
            "\u001b[0;32m<ipython-input-5-1b024fbd6166>\u001b[0m in \u001b[0;36m<cell line: 32>\u001b[0;34m()\u001b[0m\n\u001b[1;32m     46\u001b[0m \u001b[0;34m\u001b[0m\u001b[0m\n\u001b[1;32m     47\u001b[0m     \u001b[0;31m# Wait for 60 seconds (1 minute) before recalculating password\u001b[0m\u001b[0;34m\u001b[0m\u001b[0;34m\u001b[0m\u001b[0m\n\u001b[0;32m---> 48\u001b[0;31m     \u001b[0mtime\u001b[0m\u001b[0;34m.\u001b[0m\u001b[0msleep\u001b[0m\u001b[0;34m(\u001b[0m\u001b[0;36m60\u001b[0m\u001b[0;34m)\u001b[0m  \u001b[0;31m# Sleep for 60 seconds (1 minute)\u001b[0m\u001b[0;34m\u001b[0m\u001b[0;34m\u001b[0m\u001b[0m\n\u001b[0m",
            "\u001b[0;31mKeyboardInterrupt\u001b[0m: "
          ]
        }
      ],
      "source": [
        "import datetime\n",
        "import pytz\n",
        "import time\n",
        "\n",
        "# making a function to calculate password based on current time\n",
        "def calculate_password(current_time, functions):\n",
        "    hour = current_time.hour\n",
        "    minute = current_time.minute\n",
        "\n",
        "    password = []\n",
        "    for func in functions:\n",
        "        password.append(func(hour, minute))\n",
        "\n",
        "    return password\n",
        "\n",
        "# eg functions for generating password components\n",
        "def sum_of_digits(a, b):\n",
        "    return (a + b) % 10\n",
        "\n",
        "def absolute_difference(a, b):\n",
        "    return abs(a - b)\n",
        "\n",
        "def product_of_digits(a, b):\n",
        "    return (a * b) % 10\n",
        "\n",
        "functions = [sum_of_digits, absolute_difference, product_of_digits]\n",
        "\n",
        "ist_timezone = pytz.timezone('Asia/Kolkata')\n",
        "\n",
        "while True:\n",
        "    current_time_ist = datetime.datetime.now(ist_timezone).time()\n",
        "\n",
        "    password = calculate_password(current_time_ist, functions)\n",
        "\n",
        "    # here converting password components to string for display\n",
        "    password_str = ''.join(str(component) for component in password)\n",
        "\n",
        "    print(f\"Current Time (IST): {current_time_ist}\")\n",
        "    print(f\"Generated Password: {password_str}\")\n",
        "    print(\"\")\n",
        "\n",
        "    # wait for 60 seconds before recalculating password\n",
        "    time.sleep(60)\n"
      ]
    }
  ]
}